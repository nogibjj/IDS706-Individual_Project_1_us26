{
 "cells": [
  {
   "cell_type": "code",
   "execution_count": 5,
   "metadata": {},
   "outputs": [],
   "source": [
    "## import packages and functions from main.ipynb\n",
    "\n",
    "import polars as pl\n",
    "from ipynb.fs.full.main import stats_mean, stats_median\n",
    "from ipynb.fs.full.main import stats_mode, stats_std\n",
    "from ipynb.fs.full.main import create_summary"
   ]
  },
  {
   "cell_type": "code",
   "execution_count": null,
   "metadata": {},
   "outputs": [],
   "source": [
    "## read data\n",
    "\n",
    "data = pl.read_csv(\"World University Rankings 2023.csv\")\n"
   ]
  },
  {
   "cell_type": "code",
   "execution_count": null,
   "metadata": {},
   "outputs": [],
   "source": [
    "## function to test and assert the true values\n",
    "\n",
    "def test_values():\n",
    "    assert (stats_mean(data)) == 16.72500000000001\n",
    "    assert (stats_median(data)) == 13.0\n",
    "    assert (stats_mode(data)[0]) == 10.3\n",
    "    assert (stats_std(data)) == 10.557828968365255\n",
    "\n"
   ]
  },
  {
   "cell_type": "code",
   "execution_count": null,
   "metadata": {},
   "outputs": [],
   "source": [
    "## calling test and creat summary report function\n",
    "\n",
    "test_values()\n",
    "create_summary(data, file_path=\"Generated summary report.md\")"
   ]
  }
 ],
 "metadata": {
  "kernelspec": {
   "display_name": "Python 3",
   "language": "python",
   "name": "python3"
  },
  "language_info": {
   "codemirror_mode": {
    "name": "ipython",
    "version": 3
   },
   "file_extension": ".py",
   "mimetype": "text/x-python",
   "name": "python",
   "nbconvert_exporter": "python",
   "pygments_lexer": "ipython3",
   "version": "3.10.12"
  },
  "orig_nbformat": 4
 },
 "nbformat": 4,
 "nbformat_minor": 2
}
