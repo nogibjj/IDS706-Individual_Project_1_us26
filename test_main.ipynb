{
 "cells": [
  {
   "cell_type": "code",
   "execution_count": 2,
   "metadata": {},
   "outputs": [],
   "source": [
    "## import packages and functions from main python file\n",
    "\n",
    "import polars as pl\n",
    "from ipynb.fs.full.main import stats_mean, 
    stats_median, stats_mode, stats_std ,
    create_summary\n"
   ]
  },
  {
   "cell_type": "code",
   "execution_count": null,
   "metadata": {},
   "outputs": [],
   "source": [
    "## Read the data using polars (read_csv)\n",
    "\n",
    "data = pl.read_csv(\"World University Rankings 2023.csv\")"
   ]
  },
  {
   "cell_type": "code",
   "execution_count": null,
   "metadata": {},
   "outputs": [],
   "source": [
    "## test the values\n",
    "\n",
    "def test_values():\n",
    "    assert (stats_mean(data)) == 16.72500000000001\n",
    "    assert (stats_median(data)) == 13.5\n",
    "    assert (stats_mode(data)[0]) == 10.3\n",
    "    assert (stats_std(data)) == 10.557828968365255"
   ]
  },
  {
   "cell_type": "code",
   "execution_count": null,
   "metadata": {},
   "outputs": [],
   "source": [
    "## call the test and creating report function\n",
    "test_values()\n",
    "create_summary(data, file_path=\"Generated summary report.md\")"
   ]
  }
 ],
 "metadata": {
  "kernelspec": {
   "display_name": "Python 3",
   "language": "python",
   "name": "python3"
  },
  "language_info": {
   "codemirror_mode": {
    "name": "ipython",
    "version": 3
   },
   "file_extension": ".py",
   "mimetype": "text/x-python",
   "name": "python",
   "nbconvert_exporter": "python",
   "pygments_lexer": "ipython3",
   "version": "3.10.12"
  },
  "orig_nbformat": 4
 },
 "nbformat": 4,
 "nbformat_minor": 2
}
