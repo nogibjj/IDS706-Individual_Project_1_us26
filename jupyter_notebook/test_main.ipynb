{
 "cells": [
  {
   "cell_type": "code",
   "execution_count": 1,
   "metadata": {},
   "outputs": [],
   "source": [
    "## import packages and functions from main.ipynb\n",
    "\n",
    "import polars as pl\n",
    "from ipynb.fs.full.main import stats_mean, stats_median\n",
    "from ipynb.fs.full.main import stats_mode, stats_std"
   ]
  },
  {
   "cell_type": "code",
   "execution_count": 2,
   "metadata": {},
   "outputs": [],
   "source": [
    "## read data\n",
    "\n",
    "url = \"https://github.com/nogibjj/IDS706-Individual_Project_1_us26/blob/main/Ranking.csv?raw=true\"\n",
    "\n",
    "data = pl.read_csv(url)"
   ]
  },
  {
   "cell_type": "code",
   "execution_count": 3,
   "metadata": {},
   "outputs": [],
   "source": [
    "## function to test and assert the true values\n",
    "\n",
    "\n",
    "def test_values(data):\n",
    "    assert (stats_mean(data)) == 16.72500000000001\n",
    "    assert (stats_median(data)) == 13.5\n",
    "    assert (stats_mode(data)[0]) == 10.3\n",
    "    assert (stats_std(data)) == 10.557828968365255"
   ]
  },
  {
   "cell_type": "code",
   "execution_count": 8,
   "metadata": {},
   "outputs": [],
   "source": [
    "## calling test and creat summary report function\n",
    "test_values(data)"
   ]
  }
 ],
 "metadata": {
  "kernelspec": {
   "display_name": "Python 3",
   "language": "python",
   "name": "python3"
  },
  "language_info": {
   "codemirror_mode": {
    "name": "ipython",
    "version": 3
   },
   "file_extension": ".py",
   "mimetype": "text/x-python",
   "name": "python",
   "nbconvert_exporter": "python",
   "pygments_lexer": "ipython3",
   "version": "3.10.12"
  },
  "orig_nbformat": 4
 },
 "nbformat": 4,
 "nbformat_minor": 2
}
