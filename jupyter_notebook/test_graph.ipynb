{
 "cells": [
  {
   "cell_type": "code",
   "execution_count": 3,
   "metadata": {},
   "outputs": [],
   "source": [
    "## import packages\n",
    "\n",
    "import polars as pl\n",
    "import plotly.express as px\n",
    "import os"
   ]
  },
  {
   "cell_type": "code",
   "execution_count": 1,
   "metadata": {},
   "outputs": [],
   "source": [
    "## function to create visualization and export graph to set path\n",
    "\n",
    "def visualization():\n",
    "\n",
    "  data = pl.read_csv('World University Rankings 2023.csv')\n",
    "\n",
    "  result1 = data.group_by(\"Location\").agg(pl.col(\"University Rank\").count())\n",
    "  result2 = data.group_by(\"Location\").agg(pl.col(\"Industry Income Score\").mean())\n",
    "\n",
    "  joined = result1.join(result2, left_on=\"Location\", right_on=\"Location\")\n",
    "\n",
    "  fig = px.scatter(joined, x= joined['Industry Income Score'], \n",
    "                  y=joined[\"University Rank\"], color=joined[\"Location\"],\n",
    "                 size=joined['University Rank'])\n",
    "  fig.update_layout(\n",
    "    title=\"Analysing Top Universities\",\n",
    "    xaxis_title=\"Mean of Industry Income Score\",\n",
    "    yaxis_title=\"Count of Top Universities\")\n",
    "#fig.show()\n",
    "\n",
    "  if not os.path.exists(\"../output_graph\"):\n",
    "        os.mkdir(\"../output_graph\")\n",
    "\n",
    "  fig.write_image(\"../output_graph/visualization.png\")"
   ]
  },
  {
   "cell_type": "code",
   "execution_count": 4,
   "metadata": {},
   "outputs": [],
   "source": [
    "## calling the function\n",
    "visualization()"
   ]
  }
 ],
 "metadata": {
  "kernelspec": {
   "display_name": "Python 3",
   "language": "python",
   "name": "python3"
  },
  "language_info": {
   "codemirror_mode": {
    "name": "ipython",
    "version": 3
   },
   "file_extension": ".py",
   "mimetype": "text/x-python",
   "name": "python",
   "nbconvert_exporter": "python",
   "pygments_lexer": "ipython3",
   "version": "3.10.12"
  },
  "orig_nbformat": 4
 },
 "nbformat": 4,
 "nbformat_minor": 2
}
