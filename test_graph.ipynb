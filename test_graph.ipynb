{
 "cells": [
  {
   "cell_type": "code",
   "execution_count": 1,
   "metadata": {},
   "outputs": [],
   "source": [
    "## import packages\n",
    "\n",
    "import polars as pl\n",
    "import plotly.express as px\n",
    "import os"
   ]
  },
  {
   "cell_type": "code",
   "execution_count": 2,
   "metadata": {},
   "outputs": [],
   "source": [
    "## function to create visualization and export graph to set path\n",
    "\n",
    "def visualization():\n",
    "\n",
    "  data = pl.read_csv('World University Rankings 2023.csv')\n",
    "\n",
    "  result1 = data.group_by(\"Location\").agg(pl.col(\"University Rank\").count())\n",
    "  result2 = data.group_by(\"Location\").agg(pl.col(\"Industry Income Score\").mean())\n",
    "\n",
    "  joined = result1.join(result2, left_on=\"Location\", right_on=\"Location\")\n",
    "\n",
    "  fig = px.scatter(joined, x= joined['Industry Income Score'], y=joined[\"University Rank\"], color=joined[\"Location\"],\n",
    "                 size=joined['University Rank'])\n",
    "  fig.update_layout(\n",
    "    title=\"Analysing Top Universities\",\n",
    "    xaxis_title=\"Mean of Industry Income Score\",\n",
    "    yaxis_title=\"Count of Top Universities\")\n",
    "#fig.show()\n",
    "\n",
    "  if not os.path.exists(\"output_graph\"):\n",
    "        os.mkdir(\"output_graph\")\n",
    "\n",
    "  fig.write_image(\"output_graph/visualization.png\")"
   ]
  },
  {
   "cell_type": "code",
   "execution_count": 3,
   "metadata": {},
   "outputs": [
    {
     "ename": "FileNotFoundError",
     "evalue": "No such file or directory: World University Rankings 2023.csv",
     "output_type": "error",
     "traceback": [
      "\u001b[0;31m---------------------------------------------------------------------------\u001b[0m",
      "\u001b[0;31mFileNotFoundError\u001b[0m                         Traceback (most recent call last)",
      "\u001b[1;32m/workspaces/IDS706-Individual_Project_1_us26/test_graph.ipynb Cell 3\u001b[0m line \u001b[0;36m2\n\u001b[1;32m      <a href='vscode-notebook-cell://codespaces%2Bominous-rotary-phone-5gq5wxpj65j4fpg94/workspaces/IDS706-Individual_Project_1_us26/test_graph.ipynb#W2sdnNjb2RlLXJlbW90ZQ%3D%3D?line=0'>1</a>\u001b[0m \u001b[39m## calling the function\u001b[39;00m\n\u001b[0;32m----> <a href='vscode-notebook-cell://codespaces%2Bominous-rotary-phone-5gq5wxpj65j4fpg94/workspaces/IDS706-Individual_Project_1_us26/test_graph.ipynb#W2sdnNjb2RlLXJlbW90ZQ%3D%3D?line=1'>2</a>\u001b[0m visualization()\n",
      "\u001b[1;32m/workspaces/IDS706-Individual_Project_1_us26/test_graph.ipynb Cell 3\u001b[0m line \u001b[0;36m5\n\u001b[1;32m      <a href='vscode-notebook-cell://codespaces%2Bominous-rotary-phone-5gq5wxpj65j4fpg94/workspaces/IDS706-Individual_Project_1_us26/test_graph.ipynb#W2sdnNjb2RlLXJlbW90ZQ%3D%3D?line=2'>3</a>\u001b[0m \u001b[39mdef\u001b[39;00m \u001b[39mvisualization\u001b[39m():\n\u001b[0;32m----> <a href='vscode-notebook-cell://codespaces%2Bominous-rotary-phone-5gq5wxpj65j4fpg94/workspaces/IDS706-Individual_Project_1_us26/test_graph.ipynb#W2sdnNjb2RlLXJlbW90ZQ%3D%3D?line=4'>5</a>\u001b[0m   data \u001b[39m=\u001b[39m pl\u001b[39m.\u001b[39;49mread_csv(\u001b[39m'\u001b[39;49m\u001b[39mWorld University Rankings 2023.csv\u001b[39;49m\u001b[39m'\u001b[39;49m)\n\u001b[1;32m      <a href='vscode-notebook-cell://codespaces%2Bominous-rotary-phone-5gq5wxpj65j4fpg94/workspaces/IDS706-Individual_Project_1_us26/test_graph.ipynb#W2sdnNjb2RlLXJlbW90ZQ%3D%3D?line=6'>7</a>\u001b[0m   result1 \u001b[39m=\u001b[39m data\u001b[39m.\u001b[39mgroup_by(\u001b[39m\"\u001b[39m\u001b[39mLocation\u001b[39m\u001b[39m\"\u001b[39m)\u001b[39m.\u001b[39magg(pl\u001b[39m.\u001b[39mcol(\u001b[39m\"\u001b[39m\u001b[39mUniversity Rank\u001b[39m\u001b[39m\"\u001b[39m)\u001b[39m.\u001b[39mcount())\n\u001b[1;32m      <a href='vscode-notebook-cell://codespaces%2Bominous-rotary-phone-5gq5wxpj65j4fpg94/workspaces/IDS706-Individual_Project_1_us26/test_graph.ipynb#W2sdnNjb2RlLXJlbW90ZQ%3D%3D?line=7'>8</a>\u001b[0m   result2 \u001b[39m=\u001b[39m data\u001b[39m.\u001b[39mgroup_by(\u001b[39m\"\u001b[39m\u001b[39mLocation\u001b[39m\u001b[39m\"\u001b[39m)\u001b[39m.\u001b[39magg(pl\u001b[39m.\u001b[39mcol(\u001b[39m\"\u001b[39m\u001b[39mIndustry Income Score\u001b[39m\u001b[39m\"\u001b[39m)\u001b[39m.\u001b[39mmean())\n",
      "File \u001b[0;32m~/.local/lib/python3.10/site-packages/polars/io/csv/functions.py:364\u001b[0m, in \u001b[0;36mread_csv\u001b[0;34m(source, has_header, columns, new_columns, separator, comment_char, quote_char, skip_rows, dtypes, schema, null_values, missing_utf8_is_empty_string, ignore_errors, try_parse_dates, n_threads, infer_schema_length, batch_size, n_rows, encoding, low_memory, rechunk, use_pyarrow, storage_options, skip_rows_after_header, row_count_name, row_count_offset, sample_size, eol_char, raise_if_empty, truncate_ragged_lines)\u001b[0m\n\u001b[1;32m    352\u001b[0m         dtypes \u001b[39m=\u001b[39m {\n\u001b[1;32m    353\u001b[0m             new_to_current\u001b[39m.\u001b[39mget(column_name, column_name): column_dtype\n\u001b[1;32m    354\u001b[0m             \u001b[39mfor\u001b[39;00m column_name, column_dtype \u001b[39min\u001b[39;00m dtypes\u001b[39m.\u001b[39mitems()\n\u001b[1;32m    355\u001b[0m         }\n\u001b[1;32m    357\u001b[0m \u001b[39mwith\u001b[39;00m _prepare_file_arg(\n\u001b[1;32m    358\u001b[0m     source,\n\u001b[1;32m    359\u001b[0m     encoding\u001b[39m=\u001b[39mencoding,\n\u001b[0;32m   (...)\u001b[0m\n\u001b[1;32m    362\u001b[0m     \u001b[39m*\u001b[39m\u001b[39m*\u001b[39mstorage_options,\n\u001b[1;32m    363\u001b[0m ) \u001b[39mas\u001b[39;00m data:\n\u001b[0;32m--> 364\u001b[0m     df \u001b[39m=\u001b[39m pl\u001b[39m.\u001b[39;49mDataFrame\u001b[39m.\u001b[39;49m_read_csv(\n\u001b[1;32m    365\u001b[0m         data,\n\u001b[1;32m    366\u001b[0m         has_header\u001b[39m=\u001b[39;49mhas_header,\n\u001b[1;32m    367\u001b[0m         columns\u001b[39m=\u001b[39;49mcolumns \u001b[39mif\u001b[39;49;00m columns \u001b[39melse\u001b[39;49;00m projection,\n\u001b[1;32m    368\u001b[0m         separator\u001b[39m=\u001b[39;49mseparator,\n\u001b[1;32m    369\u001b[0m         comment_char\u001b[39m=\u001b[39;49mcomment_char,\n\u001b[1;32m    370\u001b[0m         quote_char\u001b[39m=\u001b[39;49mquote_char,\n\u001b[1;32m    371\u001b[0m         skip_rows\u001b[39m=\u001b[39;49mskip_rows,\n\u001b[1;32m    372\u001b[0m         dtypes\u001b[39m=\u001b[39;49mdtypes,\n\u001b[1;32m    373\u001b[0m         schema\u001b[39m=\u001b[39;49mschema,\n\u001b[1;32m    374\u001b[0m         null_values\u001b[39m=\u001b[39;49mnull_values,\n\u001b[1;32m    375\u001b[0m         missing_utf8_is_empty_string\u001b[39m=\u001b[39;49mmissing_utf8_is_empty_string,\n\u001b[1;32m    376\u001b[0m         ignore_errors\u001b[39m=\u001b[39;49mignore_errors,\n\u001b[1;32m    377\u001b[0m         try_parse_dates\u001b[39m=\u001b[39;49mtry_parse_dates,\n\u001b[1;32m    378\u001b[0m         n_threads\u001b[39m=\u001b[39;49mn_threads,\n\u001b[1;32m    379\u001b[0m         infer_schema_length\u001b[39m=\u001b[39;49minfer_schema_length,\n\u001b[1;32m    380\u001b[0m         batch_size\u001b[39m=\u001b[39;49mbatch_size,\n\u001b[1;32m    381\u001b[0m         n_rows\u001b[39m=\u001b[39;49mn_rows,\n\u001b[1;32m    382\u001b[0m         encoding\u001b[39m=\u001b[39;49mencoding \u001b[39mif\u001b[39;49;00m encoding \u001b[39m==\u001b[39;49m \u001b[39m\"\u001b[39;49m\u001b[39mutf8-lossy\u001b[39;49m\u001b[39m\"\u001b[39;49m \u001b[39melse\u001b[39;49;00m \u001b[39m\"\u001b[39;49m\u001b[39mutf8\u001b[39;49m\u001b[39m\"\u001b[39;49m,\n\u001b[1;32m    383\u001b[0m         low_memory\u001b[39m=\u001b[39;49mlow_memory,\n\u001b[1;32m    384\u001b[0m         rechunk\u001b[39m=\u001b[39;49mrechunk,\n\u001b[1;32m    385\u001b[0m         skip_rows_after_header\u001b[39m=\u001b[39;49mskip_rows_after_header,\n\u001b[1;32m    386\u001b[0m         row_count_name\u001b[39m=\u001b[39;49mrow_count_name,\n\u001b[1;32m    387\u001b[0m         row_count_offset\u001b[39m=\u001b[39;49mrow_count_offset,\n\u001b[1;32m    388\u001b[0m         sample_size\u001b[39m=\u001b[39;49msample_size,\n\u001b[1;32m    389\u001b[0m         eol_char\u001b[39m=\u001b[39;49meol_char,\n\u001b[1;32m    390\u001b[0m         raise_if_empty\u001b[39m=\u001b[39;49mraise_if_empty,\n\u001b[1;32m    391\u001b[0m         truncate_ragged_lines\u001b[39m=\u001b[39;49mtruncate_ragged_lines,\n\u001b[1;32m    392\u001b[0m     )\n\u001b[1;32m    394\u001b[0m \u001b[39mif\u001b[39;00m new_columns:\n\u001b[1;32m    395\u001b[0m     \u001b[39mreturn\u001b[39;00m _update_columns(df, new_columns)\n",
      "File \u001b[0;32m~/.local/lib/python3.10/site-packages/polars/dataframe/frame.py:766\u001b[0m, in \u001b[0;36mDataFrame._read_csv\u001b[0;34m(cls, source, has_header, columns, separator, comment_char, quote_char, skip_rows, dtypes, schema, null_values, missing_utf8_is_empty_string, ignore_errors, try_parse_dates, n_threads, infer_schema_length, batch_size, n_rows, encoding, low_memory, rechunk, skip_rows_after_header, row_count_name, row_count_offset, sample_size, eol_char, raise_if_empty, truncate_ragged_lines)\u001b[0m\n\u001b[1;32m    759\u001b[0m         \u001b[39mraise\u001b[39;00m \u001b[39mValueError\u001b[39;00m(\n\u001b[1;32m    760\u001b[0m             \u001b[39m\"\u001b[39m\u001b[39mcannot use glob patterns and integer based projection as `columns` argument\u001b[39m\u001b[39m\"\u001b[39m\n\u001b[1;32m    761\u001b[0m             \u001b[39m\"\u001b[39m\u001b[39m\\n\u001b[39;00m\u001b[39m\\n\u001b[39;00m\u001b[39mUse columns: List[str]\u001b[39m\u001b[39m\"\u001b[39m\n\u001b[1;32m    762\u001b[0m         )\n\u001b[1;32m    764\u001b[0m projection, columns \u001b[39m=\u001b[39m handle_projection_columns(columns)\n\u001b[0;32m--> 766\u001b[0m \u001b[39mself\u001b[39m\u001b[39m.\u001b[39m_df \u001b[39m=\u001b[39m PyDataFrame\u001b[39m.\u001b[39;49mread_csv(\n\u001b[1;32m    767\u001b[0m     source,\n\u001b[1;32m    768\u001b[0m     infer_schema_length,\n\u001b[1;32m    769\u001b[0m     batch_size,\n\u001b[1;32m    770\u001b[0m     has_header,\n\u001b[1;32m    771\u001b[0m     ignore_errors,\n\u001b[1;32m    772\u001b[0m     n_rows,\n\u001b[1;32m    773\u001b[0m     skip_rows,\n\u001b[1;32m    774\u001b[0m     projection,\n\u001b[1;32m    775\u001b[0m     separator,\n\u001b[1;32m    776\u001b[0m     rechunk,\n\u001b[1;32m    777\u001b[0m     columns,\n\u001b[1;32m    778\u001b[0m     encoding,\n\u001b[1;32m    779\u001b[0m     n_threads,\n\u001b[1;32m    780\u001b[0m     path,\n\u001b[1;32m    781\u001b[0m     dtype_list,\n\u001b[1;32m    782\u001b[0m     dtype_slice,\n\u001b[1;32m    783\u001b[0m     low_memory,\n\u001b[1;32m    784\u001b[0m     comment_char,\n\u001b[1;32m    785\u001b[0m     quote_char,\n\u001b[1;32m    786\u001b[0m     processed_null_values,\n\u001b[1;32m    787\u001b[0m     missing_utf8_is_empty_string,\n\u001b[1;32m    788\u001b[0m     try_parse_dates,\n\u001b[1;32m    789\u001b[0m     skip_rows_after_header,\n\u001b[1;32m    790\u001b[0m     _prepare_row_count_args(row_count_name, row_count_offset),\n\u001b[1;32m    791\u001b[0m     sample_size\u001b[39m=\u001b[39;49msample_size,\n\u001b[1;32m    792\u001b[0m     eol_char\u001b[39m=\u001b[39;49meol_char,\n\u001b[1;32m    793\u001b[0m     raise_if_empty\u001b[39m=\u001b[39;49mraise_if_empty,\n\u001b[1;32m    794\u001b[0m     truncate_ragged_lines\u001b[39m=\u001b[39;49mtruncate_ragged_lines,\n\u001b[1;32m    795\u001b[0m     schema\u001b[39m=\u001b[39;49mschema,\n\u001b[1;32m    796\u001b[0m )\n\u001b[1;32m    797\u001b[0m \u001b[39mreturn\u001b[39;00m \u001b[39mself\u001b[39m\n",
      "\u001b[0;31mFileNotFoundError\u001b[0m: No such file or directory: World University Rankings 2023.csv"
     ]
    }
   ],
   "source": [
    "## calling the function\n",
    "visualization()"
   ]
  }
 ],
 "metadata": {
  "kernelspec": {
   "display_name": "Python 3",
   "language": "python",
   "name": "python3"
  },
  "language_info": {
   "codemirror_mode": {
    "name": "ipython",
    "version": 3
   },
   "file_extension": ".py",
   "mimetype": "text/x-python",
   "name": "python",
   "nbconvert_exporter": "python",
   "pygments_lexer": "ipython3",
   "version": "3.10.12"
  },
  "orig_nbformat": 4
 },
 "nbformat": 4,
 "nbformat_minor": 2
}
