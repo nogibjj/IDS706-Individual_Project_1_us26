{
 "cells": [
  {
   "cell_type": "code",
   "execution_count": 3,
   "metadata": {},
   "outputs": [],
   "source": [
    "## import packages\n",
    "\n",
    "import polars as pl\n",
    "import plotly.express as px\n",
    "import os"
   ]
  },
  {
   "cell_type": "code",
   "execution_count": 6,
   "metadata": {},
   "outputs": [],
   "source": [
    "## function to create visualization and export graph to set path\n",
    "\n",
    "\n",
    "def visualization():\n",
    "\n",
    "    url = \"https://github.com/nogibjj/IDS706-Individual_Project_1_us26/blob/main/Ranking.csv?raw=true\"\n",
    "\n",
    "    data = pl.read_csv(url)\n",
    "\n",
    "    result1 = data.group_by(\"Location\").agg(pl.col(\"University Rank\").count())\n",
    "    result2 = data.group_by(\"Location\").agg(pl.col(\"Industry Income Score\").mean())\n",
    "\n",
    "    joined = result1.join(result2, left_on=\"Location\", right_on=\"Location\")\n",
    "\n",
    "    fig = px.scatter(\n",
    "        joined,\n",
    "        x=joined[\"Industry Income Score\"],\n",
    "        y=joined[\"University Rank\"],\n",
    "        color=joined[\"Location\"],\n",
    "        size=joined[\"University Rank\"],\n",
    "    )\n",
    "    fig.update_layout(\n",
    "        title=\"Analysing Top Universities\",\n",
    "        xaxis_title=\"Mean of Industry Income Score\",\n",
    "        yaxis_title=\"Count of Top Universities\",\n",
    "    )\n",
    "    fig.show()\n",
    "\n",
    "    if not os.path.exists(\"../output_graph\"):\n",
    "        os.mkdir(\"../output_graph\")\n",
    "\n",
    "    fig.write_image(\"../output_graph/visualization.png\")"
   ]
  }
 ],
 "metadata": {
  "kernelspec": {
   "display_name": "Python 3",
   "language": "python",
   "name": "python3"
  },
  "language_info": {
   "codemirror_mode": {
    "name": "ipython",
    "version": 3
   },
   "file_extension": ".py",
   "mimetype": "text/x-python",
   "name": "python",
   "nbconvert_exporter": "python",
   "pygments_lexer": "ipython3",
   "version": "3.10.12"
  },
  "orig_nbformat": 4
 },
 "nbformat": 4,
 "nbformat_minor": 2
}
